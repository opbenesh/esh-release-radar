{
 "cells": [
  {
   "cell_type": "code",
   "execution_count": null,
   "id": "2b88147a",
   "metadata": {},
   "outputs": [],
   "source": [
    "#imports\n",
    "import numpy as np\n",
    "import matplotlib.pyplot as plt\n",
    "import pandas as pd\n",
    "from IPython.display import display\n",
    "import datetime\n",
    "import threading\n",
    "import logging\n",
    "import time\n",
    "import itertools\n",
    "import smtplib\n",
    "from email.mime.text import MIMEText\n",
    "from collections import Counter\n",
    "import csv\n",
    "import spotipy\n",
    "from spotipy.oauth2 import SpotifyOAuth\n",
    "import os\n",
    "import spotify_utils as spu\n",
    "from operator import itemgetter\n",
    "from os.path import join as pj\n",
    "\n",
    "from sklearn.linear_model import LinearRegression,LogisticRegression\n",
    "\n",
    "from sklearn.ensemble import RandomForestClassifier\n",
    "from sklearn.model_selection import GridSearchCV\n",
    "from sklearn.preprocessing import StandardScaler\n",
    "from sklearn.tree import DecisionTreeClassifier\n",
    "from sklearn.dummy import DummyClassifier\n",
    "from sklearn.pipeline import Pipeline\n",
    "from sklearn.neighbors import KNeighborsClassifier\n",
    "from sklearn.model_selection import train_test_split\n",
    "from sklearn.metrics import classification_report,confusion_matrix,f1_score\n",
    "\n",
    "from imblearn.over_sampling import RandomOverSampler\n",
    "\n",
    "\n",
    "from math import sqrt\n",
    "\n",
    "import logging\n",
    "logging.basicConfig(level=logging.INFO, file='experiments.log')\n",
    "logger = logging.getLogger(__name__)"
   ]
  },
  {
   "cell_type": "code",
   "execution_count": null,
   "id": "5cbfcbe0",
   "metadata": {},
   "outputs": [],
   "source": [
    "# constants\n",
    "REFRESH_CACHE = False\n",
    "seen_playlist_id = \"5al4jEBoq01LPmFDuGDnq4\"      # Automated: Reviewed Items\n",
    "played_playlist_id = \"7EHT9D4ygqDlyGfqcFvkUv\"    # 5 Esh Played\n",
    "inbox_playlist_id = \"1xsuqA0HU4bSosdaPyVlWG\"     # 1 Esh Review\n"
   ]
  },
  {
   "cell_type": "code",
   "execution_count": null,
   "id": "899d6a00",
   "metadata": {},
   "outputs": [],
   "source": [
    "if REFRESH_CACHE:\n",
    "    sp = spu.spotify_connect()\n",
    "    seen_tracks = spu.get_playlist_tracks(sp,seen_playlist_id,audio_features=True)\n",
    "    played_tracks = spu.get_playlist_tracks(sp,played_playlist_id)\n",
    "    review_tracks = spu.get_playlist_tracks(sp,inbox_playlist_id)\n",
    "    seen_tracks.to_csv('seen_tracks.csv',index=False)\n",
    "    played_tracks.to_csv('played_tracks.csv',index=False)\n",
    "    review_tracks.to_csv('review_tracks.csv',index=False)"
   ]
  },
  {
   "cell_type": "code",
   "execution_count": null,
   "id": "9376cdf3",
   "metadata": {},
   "outputs": [],
   "source": [
    "seen_tracks = pd.read_csv('seen_tracks.csv')\n",
    "played_tracks = pd.read_csv('played_tracks.csv')[\"id\"]\n",
    "seen_tracks = seen_tracks.merge(played_tracks,how='left',on=[\"id\"],indicator=\"played\")\n",
    "seen_tracks[\"played\"] = seen_tracks[\"played\"].apply(lambda i: 1 if i==\"both\" else 0)\n",
    "seen_tracks = seen_tracks.dropna()\n",
    "X = seen_tracks[spu.audio_features_to_use]\n",
    "y = seen_tracks[\"played\"]"
   ]
  },
  {
   "cell_type": "code",
   "execution_count": null,
   "id": "c519de4a",
   "metadata": {},
   "outputs": [],
   "source": [
    "# Generic model evaluator\n",
    "def evaluate_model(model,splitter,transformer,X,y):\n",
    "    X_train, X_test, y_train, y_test = splitter[1](X,y,random_state=0)\n",
    "    X_train, y_train = transformer[1](X_train,y_train)\n",
    "    training_start = time.time()\n",
    "    model[1].fit(X_train, y_train)\n",
    "    training_end = time.time()\n",
    "    training_duration = training_end - training_start\n",
    "    y_test_pred = model[1].predict(X_test)\n",
    "    name = f'{model[0]},{splitter[0]},{transformer[0]}'\n",
    "    accuracy = model[1].score(X_test,y_test)\n",
    "    f1_macro = f1_score(y_test,y_test_pred,average=\"macro\")\n",
    "    logger.info(f'{name},{accuracy},{f1_macro}')\n",
    "    return (accuracy,f1_macro)\n",
    "def stratified_split(X,y,random_state):\n",
    "    return train_test_split(X,y,stratify=y,test_size=0.25,random_state=random_state)"
   ]
  },
  {
   "cell_type": "code",
   "execution_count": null,
   "id": "80ef43f7",
   "metadata": {},
   "outputs": [],
   "source": [
    "models = [(\"Dummy\",DummyClassifier(random_state=0,strategy=\"constant\",constant=0)),\n",
    "          (\"KNN\",KNeighborsClassifier()),\n",
    "          (\"Logistic Regression\",LogisticRegression()),\n",
    "          (\"Decision tree\",DecisionTreeClassifier(random_state=0)),\n",
    "          (\"Random forests\",RandomForestClassifier(random_state=0))\n",
    "         ]\n",
    "spliiters = [(\"RandSplit\",train_test_split),\n",
    "             (\"StratSplit\",stratified_split)\n",
    "            ]\n",
    "transformers = [(\"Identity\",lambda X,y: (X,y)),\n",
    "                (\"Over-sample\",RandomOverSampler(random_state=0).fit_resample)\n",
    "               ]\n",
    "results = []\n",
    "for transformer in transformers:\n",
    "    for splitter in spliiters:\n",
    "        for model in models:\n",
    "            (evaluate_model(model,splitter,transformer,X,y)\n",
    "print('\\n'.join([','.join(map(str,res)) for res in results]))"
   ]
  },
  {
   "cell_type": "code",
   "execution_count": null,
   "id": "3af68c71",
   "metadata": {},
   "outputs": [],
   "source": []
  }
 ],
 "metadata": {
  "kernelspec": {
   "display_name": "esh-release-radar",
   "language": "python",
   "name": "python3"
  },
  "language_info": {
   "codemirror_mode": {
    "name": "ipython",
    "version": 3
   },
   "file_extension": ".py",
   "mimetype": "text/x-python",
   "name": "python",
   "nbconvert_exporter": "python",
   "pygments_lexer": "ipython3",
   "version": "3.10.8"
  },
  "vscode": {
   "interpreter": {
    "hash": "bc330141310c3cca77868ac8a1df364de292bd02e3e5985a0480fba1ef05f7dc"
   }
  }
 },
 "nbformat": 4,
 "nbformat_minor": 5
}

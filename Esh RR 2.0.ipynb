{
 "cells": [
  {
   "cell_type": "code",
   "execution_count": null,
   "id": "2b88147a",
   "metadata": {},
   "outputs": [],
   "source": [
    "#imports\n",
    "import numpy as np\n",
    "import matplotlib.pyplot as plt\n",
    "import pandas as pd\n",
    "from IPython.display import display\n",
    "import datetime\n",
    "import threading\n",
    "import logging\n",
    "import time\n",
    "import itertools\n",
    "import smtplib\n",
    "from email.mime.text import MIMEText\n",
    "from collections import Counter\n",
    "import csv\n",
    "import spotipy\n",
    "from spotipy.oauth2 import SpotifyOAuth\n",
    "import os\n",
    "import spotify_utils as spu\n",
    "from operator import itemgetter\n",
    "from os.path import join as pj\n",
    "\n",
    "from sklearn.linear_model import LinearRegression,LogisticRegression\n",
    "\n",
    "from sklearn.ensemble import RandomForestClassifier\n",
    "from sklearn.model_selection import GridSearchCV\n",
    "from sklearn.preprocessing import StandardScaler\n",
    "from sklearn.tree import DecisionTreeClassifier\n",
    "from sklearn.dummy import DummyClassifier\n",
    "from sklearn.neighbors import KNeighborsClassifier\n",
    "from sklearn.model_selection import train_test_split\n",
    "from sklearn.metrics import classification_report,confusion_matrix,f1_score\n",
    "\n",
    "from imblearn.over_sampling import RandomOverSampler,SMOTE\n",
    "from imblearn.under_sampling import RandomUnderSampler,TomekLinks\n",
    "from imblearn.pipeline import Pipeline\n",
    "\n",
    "\n",
    "from math import sqrt"
   ]
  },
  {
   "cell_type": "code",
   "execution_count": null,
   "id": "5cbfcbe0",
   "metadata": {},
   "outputs": [],
   "source": [
    "# constants\n",
    "REFRESH_CACHE = True\n",
    "seen_playlist_id = \"5al4jEBoq01LPmFDuGDnq4\"      # Automated: Reviewed Items\n",
    "played_playlist_id = \"7EHT9D4ygqDlyGfqcFvkUv\"    # 5 Esh Played\n",
    "inbox_playlist_id = \"1xsuqA0HU4bSosdaPyVlWG\"     # 1 Esh Review\n"
   ]
  },
  {
   "cell_type": "code",
   "execution_count": null,
   "id": "899d6a00",
   "metadata": {},
   "outputs": [],
   "source": [
    "if REFRESH_CACHE:\n",
    "    sp = spu.spotify_connect()\n",
    "    seen_tracks = spu.get_playlist_tracks(sp,seen_playlist_id,audio_features=True)\n",
    "    played_tracks = spu.get_playlist_tracks(sp,played_playlist_id)\n",
    "    review_tracks = spu.get_playlist_tracks(sp,inbox_playlist_id,audio_features=True)\n",
    "    seen_tracks.to_csv('seen_tracks.csv',index=False)\n",
    "    played_tracks.to_csv('played_tracks.csv',index=False)\n",
    "    review_tracks.to_csv('review_tracks.csv',index=False)"
   ]
  },
  {
   "cell_type": "code",
   "execution_count": null,
   "id": "9376cdf3",
   "metadata": {},
   "outputs": [],
   "source": [
    "seen_tracks = pd.read_csv('seen_tracks.csv')\n",
    "played_tracks = pd.read_csv('played_tracks.csv')[\"id\"]\n",
    "seen_tracks = seen_tracks.merge(played_tracks,how='left',on=[\"id\"],indicator=\"played\")\n",
    "seen_tracks[\"played\"] = seen_tracks[\"played\"].apply(lambda i: 1 if i==\"both\" else 0)\n",
    "seen_tracks = seen_tracks.dropna()"
   ]
  },
  {
   "cell_type": "code",
   "execution_count": null,
   "id": "baca035e",
   "metadata": {},
   "outputs": [],
   "source": [
    "import duckdb\n",
    "import pandas as pd\n",
    "import sqlalchemy\n",
    "# No need to import duckdb_engine\n",
    "#  SQLAlchemy will auto-detect the driver needed based on your connection string!\n",
    "\n",
    "# Import ipython-sql Jupyter extension to create SQL cells\n",
    "%load_ext sql\n",
    "%config SqlMagic.autopandas = True\n",
    "%config SqlMagic.feedback = False\n",
    "%config SqlMagic.displaycon = False\n",
    "%sql duckdb:///:memory:\n",
    "%sql SELECT 'Off and flying!' as a_duckdb_column"
   ]
  },
  {
   "cell_type": "code",
   "execution_count": null,
   "id": "8b27c7cb",
   "metadata": {},
   "outputs": [],
   "source": [
    "%sql t0 << select * from seen_tracks\n",
    "%sql select count(*) from t0"
   ]
  },
  {
   "cell_type": "code",
   "execution_count": null,
   "id": "216e9208",
   "metadata": {},
   "outputs": [],
   "source": [
    "%%sql t1 << \n",
    "select * \n",
    "from (\n",
    "    select *,row_number() over (partition by artist_id,track_name order by playlist_offset) as duplicate_index\n",
    "    from t0\n",
    ")\n",
    "where duplicate_index = 1"
   ]
  },
  {
   "cell_type": "code",
   "execution_count": null,
   "id": "0cffb7e2",
   "metadata": {},
   "outputs": [],
   "source": [
    "t1[\"played\"].value_counts()"
   ]
  },
  {
   "cell_type": "code",
   "execution_count": null,
   "id": "6e1c90c2",
   "metadata": {},
   "outputs": [],
   "source": [
    "%%sql t2 <<\n",
    "select * from (\n",
    "    select *,max(played) over (partition by artist_id) as artist_played from t1\n",
    ")\n",
    "where played = 1 or artist_played = 0"
   ]
  },
  {
   "cell_type": "code",
   "execution_count": null,
   "id": "c4da3b38",
   "metadata": {},
   "outputs": [],
   "source": [
    "t2[\"played\"].value_counts()"
   ]
  },
  {
   "cell_type": "code",
   "execution_count": null,
   "id": "e2bfea75",
   "metadata": {},
   "outputs": [],
   "source": [
    "%%sql t3 <<\n",
    "select *,coalesce(sum(played) over (\n",
    "    partition by artist_id\n",
    "    order by playlist_offset\n",
    "    rows between unbounded preceding and 1 preceding \n",
    "    ),0) as previous_artist_plays\n",
    "from t2"
   ]
  },
  {
   "cell_type": "code",
   "execution_count": null,
   "id": "fb214ef6",
   "metadata": {},
   "outputs": [],
   "source": [
    "t3[\"previous_artist_plays\"].value_counts()"
   ]
  },
  {
   "cell_type": "code",
   "execution_count": null,
   "id": "8ff78638",
   "metadata": {},
   "outputs": [],
   "source": [
    "\n",
    "X = t3[[\"duration\",\"previous_artist_plays\"] + spu.audio_features_to_use]\n",
    "y = t3[\"played\"]"
   ]
  },
  {
   "cell_type": "code",
   "execution_count": null,
   "id": "80ef43f7",
   "metadata": {},
   "outputs": [],
   "source": [
    "\n",
    "param_grid = [\n",
    "    {#'classifier': [RandomForestClassifier(random_state=0)],\n",
    "     #'classifier__max_features': [1, int(sqrt(len(spu.audio_features_to_use)+1)), len(spu.audio_features_to_use)+1],\n",
    "     #'classifier__n_estimators': [1, 10, 100],\n",
    "     #'classifier__min_samples_split': [2, 5, 10]\n",
    "     #'oversampler': [RandomOverSampler(random_state=0),SMOTE()],\n",
    "     #'oversampler__sampling_strategy': [0.1,0.3,0.5],\n",
    "     #'undersampler': [RandomUnderSampler(random_state=0)],\n",
    "     #'undersampler__sampling_strategy': [0.5,0.7,0.9]\n",
    "    }#,\n",
    "    #{#'classifier': [RandomForestClassifier(random_state=0)],\n",
    "    # #'classifier__max_features': [1, int(sqrt(len(spu.audio_features_to_use)+1)), len(spu.audio_features_to_use)+1],\n",
    "    # #'classifier__n_estimators': [1, 10, 100],\n",
    "    # #'classifier__min_samples_split': [2, 5, 10],\n",
    "    # 'oversampler':[RandomOverSampler(random_state=0),SMOTE()],\n",
    "    # 'oversampler__sampling_strategy': [0.1,0.3,0.5],\n",
    "    # 'undersampler': [TomekLinks(sampling_strategy=\"majority\")]\n",
    "    #}\n",
    "    ]\n",
    "pipe = Pipeline([('classifier', RandomForestClassifier(random_state=0,n_estimators=10))], memory=\"cache_folder\")\n",
    "grid_search = GridSearchCV(pipe,param_grid,cv=5,scoring=\"f1_macro\",verbose=3)\n",
    "\n",
    "X_train, X_test, y_train, y_test = train_test_split(X,y,stratify=y,test_size=0.25,random_state=0)\n",
    "grid_search.fit(X_train,y_train)\n",
    "\n",
    "print(\"Best params:\\n{}\\n\".format(grid_search.best_params_))\n",
    "print(\"Best cross-validation f1_macro score: {:.2f}\".format(grid_search.best_score_))\n",
    "\n",
    "chosen_model = grid_search"
   ]
  },
  {
   "cell_type": "code",
   "execution_count": null,
   "id": "b5df8895",
   "metadata": {},
   "outputs": [],
   "source": [
    "y_true = y_test\n",
    "y_pred = chosen_model.predict(X_test)\n",
    "print(classification_report(y_true,y_pred))"
   ]
  },
  {
   "cell_type": "code",
   "execution_count": null,
   "id": "cc45b497",
   "metadata": {},
   "outputs": [],
   "source": [
    "review_tracks = pd.read_csv(\"review_tracks.csv\").dropna()\n",
    "%sql review_tracks2 << select *,coalesce(sum(played) over (partition by artist_id order by playlist_offset rows between unbounded preceding and 1 preceding),0) as previous_artist_plays from review_tracks\n",
    "X_pred = review_tracks2[[\"duration\",\"previous_artist_plays\"] + spu.audio_features_to_use]\n",
    "y_predict_proba = pd.DataFrame(chosen_model.predict_proba(X_pred),columns=[\"prediction\",\"probability\"])\n",
    "review_tracks2[\"prediction\"] = y_predict_proba[\"prediction\"]\n",
    "review_tracks2[\"probability\"] = y_predict_proba[\"probability\"]\n",
    "res = review_tracks2.sort_values(\"probability\",ascending=False)\n",
    "res[\"uri\"].to_csv(\"review_ranked_output.csv\",index=False)\n",
    "res"
   ]
  },
  {
   "cell_type": "code",
   "execution_count": null,
   "id": "891f28da",
   "metadata": {},
   "outputs": [],
   "source": []
  }
 ],
 "metadata": {
  "kernelspec": {
   "display_name": "esh-release-radar",
   "language": "python",
   "name": "python3"
  },
  "language_info": {
   "codemirror_mode": {
    "name": "ipython",
    "version": 3
   },
   "file_extension": ".py",
   "mimetype": "text/x-python",
   "name": "python",
   "nbconvert_exporter": "python",
   "pygments_lexer": "ipython3",
   "version": "3.10.8"
  },
  "vscode": {
   "interpreter": {
    "hash": "bc330141310c3cca77868ac8a1df364de292bd02e3e5985a0480fba1ef05f7dc"
   }
  }
 },
 "nbformat": 4,
 "nbformat_minor": 5
}

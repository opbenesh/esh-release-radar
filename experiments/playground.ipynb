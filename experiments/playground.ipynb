{
 "cells": [
  {
   "cell_type": "code",
   "execution_count": 1,
   "metadata": {},
   "outputs": [],
   "source": [
    "import spotipy\n",
    "import spotify_utils\n",
    "import pandas as pd\n",
    "\n",
    "seen_tracks_playlist_id = \"5al4jEBoq01LPmFDuGDnq4\"          # Automated: Reviewed Items\n",
    "review_playlist_id = \"1xsuqA0HU4bSosdaPyVlWG\"                # 1 Esh Review\n",
    "shortlist_playlist_id = \"3qYnDeorQj7TPRlmqM8S5c\"            # 2 Esh Shortlist\n",
    "approved_playlist_id = \"7pBxidVP9h7ufxsFBMwOQq\"             # 3 Esh Approved\n",
    "played_playlist_id = \"7EHT9D4ygqDlyGfqcFvkUv\"    # 5 Esh Played"
   ]
  },
  {
   "cell_type": "code",
   "execution_count": 2,
   "metadata": {},
   "outputs": [
    {
     "ename": "NameError",
     "evalue": "name 'pd' is not defined",
     "output_type": "error",
     "traceback": [
      "\u001b[1;31m---------------------------------------------------------------------------\u001b[0m",
      "\u001b[1;31mNameError\u001b[0m                                 Traceback (most recent call last)",
      "\u001b[1;32m~\\AppData\\Local\\Temp\\ipykernel_16584\\3390412374.py\u001b[0m in \u001b[0;36m<module>\u001b[1;34m\u001b[0m\n\u001b[0;32m      6\u001b[0m \u001b[0mplayed_tracks\u001b[0m \u001b[1;33m=\u001b[0m \u001b[0mspotify_utils\u001b[0m\u001b[1;33m.\u001b[0m\u001b[0mget_playlist_tracks\u001b[0m\u001b[1;33m(\u001b[0m\u001b[0msp\u001b[0m\u001b[1;33m,\u001b[0m\u001b[0mplayed_playlist_id\u001b[0m\u001b[1;33m)\u001b[0m\u001b[1;33m\u001b[0m\u001b[1;33m\u001b[0m\u001b[0m\n\u001b[0;32m      7\u001b[0m \u001b[1;33m\u001b[0m\u001b[0m\n\u001b[1;32m----> 8\u001b[1;33m \u001b[0mreview_tracks\u001b[0m \u001b[1;33m=\u001b[0m \u001b[0mpd\u001b[0m\u001b[1;33m.\u001b[0m\u001b[0mconcat\u001b[0m\u001b[1;33m(\u001b[0m\u001b[0mreview_tracks\u001b[0m\u001b[1;33m,\u001b[0m\u001b[0mshortlist_tracks\u001b[0m\u001b[1;33m)\u001b[0m\u001b[1;33m\u001b[0m\u001b[1;33m\u001b[0m\u001b[0m\n\u001b[0m\u001b[0;32m      9\u001b[0m \u001b[0mplayed_tracks\u001b[0m \u001b[1;33m=\u001b[0m \u001b[0mpd\u001b[0m\u001b[1;33m.\u001b[0m\u001b[0mconcat\u001b[0m\u001b[1;33m(\u001b[0m\u001b[0mplayed_tracks\u001b[0m\u001b[1;33m,\u001b[0m\u001b[0mapproved_tracks\u001b[0m\u001b[1;33m)\u001b[0m\u001b[1;33m\u001b[0m\u001b[1;33m\u001b[0m\u001b[0m\n\u001b[0;32m     10\u001b[0m \u001b[1;33m\u001b[0m\u001b[0m\n",
      "\u001b[1;31mNameError\u001b[0m: name 'pd' is not defined"
     ]
    }
   ],
   "source": [
    "sp = spotify_utils.spotify_connect()\n",
    "seen_tracks = spotify_utils.get_playlist_tracks(sp,seen_tracks_playlist_id)\n",
    "review_tracks = spotify_utils.get_playlist_tracks(sp,review_playlist_id)\n",
    "shortlist_tracks = spotify_utils.get_playlist_tracks(sp,shortlist_playlist_id)\n",
    "approved_tracks = spotify_utils.get_playlist_tracks(sp,approved_playlist_id)\n",
    "played_tracks = spotify_utils.get_playlist_tracks(sp,played_playlist_id)\n",
    "\n",
    "review_tracks = pd.concat(review_tracks,shortlist_tracks)\n",
    "played_tracks = pd.concat(played_tracks,approved_tracks)\n",
    "\n",
    "seen_tracks = seen_tracks[seen_tracks[\"id\"].isin(review_tracks[\"id\"]) == False]"
   ]
  },
  {
   "cell_type": "code",
   "execution_count": null,
   "metadata": {},
   "outputs": [],
   "source": []
  }
 ],
 "metadata": {
  "kernelspec": {
   "display_name": "base",
   "language": "python",
   "name": "python3"
  },
  "language_info": {
   "codemirror_mode": {
    "name": "ipython",
    "version": 3
   },
   "file_extension": ".py",
   "mimetype": "text/x-python",
   "name": "python",
   "nbconvert_exporter": "python",
   "pygments_lexer": "ipython3",
   "version": "3.9.13 (main, Aug 25 2022, 23:51:50) [MSC v.1916 64 bit (AMD64)]"
  },
  "orig_nbformat": 4,
  "vscode": {
   "interpreter": {
    "hash": "ad2bdc8ecc057115af97d19610ffacc2b4e99fae6737bb82f5d7fb13d2f2c186"
   }
  }
 },
 "nbformat": 4,
 "nbformat_minor": 2
}
